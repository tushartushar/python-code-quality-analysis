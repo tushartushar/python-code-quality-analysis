{
 "cells": [
  {
   "cell_type": "code",
   "id": "initial_id",
   "metadata": {
    "collapsed": true,
    "ExecuteTime": {
     "end_time": "2025-05-04T21:51:44.599869Z",
     "start_time": "2025-05-04T21:51:43.959620Z"
    }
   },
   "source": "!pip install networkx pyvis",
   "outputs": [
    {
     "name": "stdout",
     "output_type": "stream",
     "text": [
      "Requirement already satisfied: networkx in ./venv/lib/python3.12/site-packages (3.4.2)\r\n",
      "Requirement already satisfied: plotly in ./venv/lib/python3.12/site-packages (6.0.1)\r\n",
      "Requirement already satisfied: narwhals>=1.15.1 in ./venv/lib/python3.12/site-packages (from plotly) (1.34.0)\r\n",
      "Requirement already satisfied: packaging in ./venv/lib/python3.12/site-packages (from plotly) (24.2)\r\n",
      "\r\n",
      "\u001B[1m[\u001B[0m\u001B[34;49mnotice\u001B[0m\u001B[1;39;49m]\u001B[0m\u001B[39;49m A new release of pip is available: \u001B[0m\u001B[31;49m25.0.1\u001B[0m\u001B[39;49m -> \u001B[0m\u001B[32;49m25.1.1\u001B[0m\r\n",
      "\u001B[1m[\u001B[0m\u001B[34;49mnotice\u001B[0m\u001B[1;39;49m]\u001B[0m\u001B[39;49m To update, run: \u001B[0m\u001B[32;49mpip install --upgrade pip\u001B[0m\r\n"
     ]
    }
   ],
   "execution_count": 1
  },
  {
   "metadata": {
    "ExecuteTime": {
     "end_time": "2025-05-07T23:40:49.456238Z",
     "start_time": "2025-05-07T23:40:49.421919Z"
    }
   },
   "cell_type": "code",
   "source": [
    "import networkx as nx\n",
    "from pyvis.network import Network\n",
    "\n",
    "# Load GraphML\n",
    "G = nx.read_graphml(\"../project/Myproject_dependency_graph.graphml\")\n",
    "\n",
    "def degree_to_color(out_degree, max_degree):\n",
    "    ratio = out_degree / max_degree if max_degree > 0 else 0\n",
    "    r = 255\n",
    "    g = int(202 - (90 * ratio))\n",
    "    b = int(40 + (90 * ratio))\n",
    "    return f'rgb({r},{g},{b})'\n",
    "\n",
    "# Ensure directed\n",
    "if not G.is_directed():\n",
    "    G = G.to_directed()\n",
    "\n",
    "out_degrees = dict(G.out_degree())\n",
    "max_out_degree = max(out_degrees.values(), default=0)\n",
    "net = Network(directed=True, notebook=False, height=\"800px\", width=\"100%\")\n",
    "net.force_atlas_2based()\n",
    "\n",
    "for node in G.nodes():\n",
    "    full_label = str(node)\n",
    "    short_label = full_label.split('.')[-1]\n",
    "\n",
    "    out_deg = out_degrees.get(node, 0)\n",
    "    color = degree_to_color(out_deg, max_out_degree)\n",
    "\n",
    "    net.add_node(\n",
    "        n_id=node,\n",
    "        label=short_label,\n",
    "        title=full_label,\n",
    "        color=color,\n",
    "        font={'size': 22, 'bold': True}\n",
    "    )\n",
    "\n",
    "for source, target in G.edges():\n",
    "    net.add_edge(source, target)\n",
    "\n",
    "net.save_graph(\"dependency_graph.html\")\n"
   ],
   "id": "1f5e681340243fa7",
   "outputs": [],
   "execution_count": 20
  }
 ],
 "metadata": {
  "kernelspec": {
   "display_name": "Python 3",
   "language": "python",
   "name": "python3"
  },
  "language_info": {
   "codemirror_mode": {
    "name": "ipython",
    "version": 2
   },
   "file_extension": ".py",
   "mimetype": "text/x-python",
   "name": "python",
   "nbconvert_exporter": "python",
   "pygments_lexer": "ipython2",
   "version": "2.7.6"
  }
 },
 "nbformat": 4,
 "nbformat_minor": 5
}
