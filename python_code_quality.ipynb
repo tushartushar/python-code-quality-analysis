{
 "cells": [
  {
   "metadata": {},
   "cell_type": "markdown",
   "source": [
    "# Interactive Code Quality Analysis for your Python project using DPy and Jupyter Notebook\n",
    "High code quality ensures that software is maintainable as its codebases evolve through contributions from diverse developers. One effective way to maintain high code quality is to identify code smells, which are symptoms indicating deeper quality problems in your codebase.\n",
    "\n",
    "In this notebook, I'll walk through the process of analyzing an open-source project interactively using DPy, our code smell detection tool designed for Python projects. We'll post-process the analysis results, creating insightful visualizations and interactive summaries that make the findings more accessible and actionable.\n",
    "\n",
    "Let's explore how combining automated smell detection with interactive data analysis can give you valuable insights into your code quality."
   ],
   "id": "6e9fd757f1cca552"
  },
  {
   "metadata": {
    "ExecuteTime": {
     "end_time": "2025-04-08T06:02:36.232387Z",
     "start_time": "2025-04-08T06:02:34.390051Z"
    }
   },
   "cell_type": "code",
   "source": "!pip install -r requirements.txt",
   "id": "e37aecd587bc4d5f",
   "outputs": [
    {
     "name": "stdout",
     "output_type": "stream",
     "text": [
      "Requirement already satisfied: contourpy==1.3.1 in ./venv/lib/python3.12/site-packages (from -r requirements.txt (line 1)) (1.3.1)\r\n",
      "Requirement already satisfied: cycler==0.12.1 in ./venv/lib/python3.12/site-packages (from -r requirements.txt (line 2)) (0.12.1)\r\n",
      "Requirement already satisfied: fonttools==4.57.0 in ./venv/lib/python3.12/site-packages (from -r requirements.txt (line 3)) (4.57.0)\r\n",
      "Requirement already satisfied: gitdb==4.0.12 in ./venv/lib/python3.12/site-packages (from -r requirements.txt (line 4)) (4.0.12)\r\n",
      "Requirement already satisfied: GitPython==3.1.44 in ./venv/lib/python3.12/site-packages (from -r requirements.txt (line 5)) (3.1.44)\r\n",
      "Requirement already satisfied: kiwisolver==1.4.8 in ./venv/lib/python3.12/site-packages (from -r requirements.txt (line 6)) (1.4.8)\r\n",
      "Requirement already satisfied: lizard==1.17.23 in ./venv/lib/python3.12/site-packages (from -r requirements.txt (line 7)) (1.17.23)\r\n",
      "Requirement already satisfied: matplotlib==3.10.1 in ./venv/lib/python3.12/site-packages (from -r requirements.txt (line 8)) (3.10.1)\r\n",
      "Requirement already satisfied: narwhals==1.34.0 in ./venv/lib/python3.12/site-packages (from -r requirements.txt (line 9)) (1.34.0)\r\n",
      "Requirement already satisfied: numpy==2.2.4 in ./venv/lib/python3.12/site-packages (from -r requirements.txt (line 10)) (2.2.4)\r\n",
      "Requirement already satisfied: packaging==24.2 in ./venv/lib/python3.12/site-packages (from -r requirements.txt (line 11)) (24.2)\r\n",
      "Requirement already satisfied: pandas==2.2.3 in ./venv/lib/python3.12/site-packages (from -r requirements.txt (line 12)) (2.2.3)\r\n",
      "Requirement already satisfied: pathspec==0.12.1 in ./venv/lib/python3.12/site-packages (from -r requirements.txt (line 13)) (0.12.1)\r\n",
      "Requirement already satisfied: pillow==11.1.0 in ./venv/lib/python3.12/site-packages (from -r requirements.txt (line 14)) (11.1.0)\r\n",
      "Requirement already satisfied: plotly==6.0.1 in ./venv/lib/python3.12/site-packages (from -r requirements.txt (line 15)) (6.0.1)\r\n",
      "Requirement already satisfied: PyDriller==2.7 in ./venv/lib/python3.12/site-packages (from -r requirements.txt (line 16)) (2.7)\r\n",
      "Requirement already satisfied: Pygments==2.19.1 in ./venv/lib/python3.12/site-packages (from -r requirements.txt (line 17)) (2.19.1)\r\n",
      "Requirement already satisfied: pyparsing==3.2.3 in ./venv/lib/python3.12/site-packages (from -r requirements.txt (line 18)) (3.2.3)\r\n",
      "Requirement already satisfied: python-dateutil==2.9.0.post0 in ./venv/lib/python3.12/site-packages (from -r requirements.txt (line 19)) (2.9.0.post0)\r\n",
      "Requirement already satisfied: pytz==2025.2 in ./venv/lib/python3.12/site-packages (from -r requirements.txt (line 20)) (2025.2)\r\n",
      "Requirement already satisfied: six==1.17.0 in ./venv/lib/python3.12/site-packages (from -r requirements.txt (line 21)) (1.17.0)\r\n",
      "Requirement already satisfied: smmap==5.0.2 in ./venv/lib/python3.12/site-packages (from -r requirements.txt (line 22)) (5.0.2)\r\n",
      "Requirement already satisfied: types-pytz==2025.2.0.20250326 in ./venv/lib/python3.12/site-packages (from -r requirements.txt (line 23)) (2025.2.0.20250326)\r\n",
      "Requirement already satisfied: tzdata==2025.2 in ./venv/lib/python3.12/site-packages (from -r requirements.txt (line 24)) (2025.2)\r\n",
      "Requirement already satisfied: wget==3.2 in ./venv/lib/python3.12/site-packages (from -r requirements.txt (line 25)) (3.2)\r\n"
     ]
    }
   ],
   "execution_count": 1
  },
  {
   "metadata": {
    "collapsed": true
   },
   "cell_type": "code",
   "source": [
    "# download repository\n",
    "from git import Repo\n",
    "\n",
    "Repo.clone_from('https://github.com/django/django', 'django')"
   ],
   "id": "initial_id",
   "outputs": [],
   "execution_count": null
  },
  {
   "metadata": {},
   "cell_type": "code",
   "source": [
    "# download DPy from Designite website\n",
    "# https://www.designite-tools.com/assets/DPy-macos.zip\n",
    "# https://www.designite-tools.com/assets/DPy-windows.zip\n",
    "# https://www.designite-tools.com/assets/DPy-linux.zip\n",
    "\n",
    "import wget\n",
    "wget.download(\"https://www.designite-tools.com/assets/DPy-macos.zip\")"
   ],
   "id": "f28e21ccd1955584",
   "outputs": [],
   "execution_count": null
  },
  {
   "metadata": {},
   "cell_type": "code",
   "source": [
    "import shutil\n",
    "shutil.unpack_archive('DPy-macos.zip', 'dpy')"
   ],
   "id": "6427ebdb35ff471e",
   "outputs": [],
   "execution_count": null
  },
  {
   "metadata": {},
   "cell_type": "code",
   "source": [
    "import subprocess\n",
    "subprocess.run(['chmod', '+x', 'dpy/DPy'])\n",
    "subprocess.run([\"dpy/DPy\"])"
   ],
   "id": "fba325f1ffb4bd60",
   "outputs": [],
   "execution_count": null
  },
  {
   "metadata": {},
   "cell_type": "code",
   "source": "subprocess.run([\"dpy/DPy\", \"register\", \"JAxxxxxxxxx\"])",
   "id": "ca249e034693e62e",
   "outputs": [],
   "execution_count": null
  },
  {
   "metadata": {},
   "cell_type": "code",
   "source": "subprocess.run([\"dpy/DPy\", \"version\"])",
   "id": "c774dab7512e8b19",
   "outputs": [],
   "execution_count": null
  },
  {
   "metadata": {},
   "cell_type": "code",
   "source": "subprocess.run([\"dpy/DPy\", \"analyze\", \"-i\", \"django/django\", \"-o\", \"analysis-results/django\"])",
   "id": "51730d597b39f2d9",
   "outputs": [],
   "execution_count": null
  },
  {
   "metadata": {},
   "cell_type": "code",
   "source": [
    "import pandas as pd\n",
    "df = pd.read_json('analysis-results/django/django_implementation_smells.json')\n",
    "df.head()"
   ],
   "id": "d32bb40aa182b968",
   "outputs": [],
   "execution_count": null
  },
  {
   "metadata": {},
   "cell_type": "code",
   "source": [
    "import matplotlib.pyplot as plt\n",
    "import matplotlib.colors as mcolors\n",
    "\n",
    "def bar_plot(df, smell_type='Implementation'):\n",
    "    smell_counts = df['Smell'].value_counts()\n",
    "    cmap = plt.get_cmap(\"Oranges\")\n",
    "    norm = mcolors.Normalize(vmin=smell_counts.min(), vmax=smell_counts.max())\n",
    "\n",
    "    fig, ax = plt.subplots(figsize=(8, 5))\n",
    "\n",
    "    for i, (smell, count) in enumerate(smell_counts.items()):\n",
    "        gradient_color = cmap(norm(smell_counts.min() + count))\n",
    "        ax.bar(smell, count, color=gradient_color, edgecolor='orange', linewidth=1.5)\n",
    "\n",
    "    ax.set_xlabel(f\"{smell_type} smells\")\n",
    "    ax.set_ylabel(\"Count\")\n",
    "    ax.set_title(f\"Distribution of Identified {smell_type} Smells\")\n",
    "    plt.xticks(rotation=45, ha='right')\n",
    "    plt.show()\n"
   ],
   "id": "7a10b823bce17197",
   "outputs": [],
   "execution_count": null
  },
  {
   "metadata": {},
   "cell_type": "code",
   "source": "bar_plot(df, 'Implementation')",
   "id": "ce0463b6a521a5f6",
   "outputs": [],
   "execution_count": null
  },
  {
   "metadata": {},
   "cell_type": "code",
   "source": [
    "df_d = pd.read_json('analysis-results/django/django_design_smells.json')\n",
    "df_d.head()"
   ],
   "id": "8489b0cf3bc817cd",
   "outputs": [],
   "execution_count": null
  },
  {
   "metadata": {},
   "cell_type": "code",
   "source": "bar_plot(df_d, 'Design')",
   "id": "807513f515680691",
   "outputs": [],
   "execution_count": null
  },
  {
   "metadata": {},
   "cell_type": "code",
   "source": [
    "df_metrics = pd.read_json('analysis-results/django/django_class_module_metrics.json')\n",
    "df_metrics.head()"
   ],
   "id": "5b7553d47918d2f7",
   "outputs": [],
   "execution_count": null
  },
  {
   "metadata": {},
   "cell_type": "code",
   "source": [
    "total_loc_pkg = df_metrics.groupby('Package', as_index=False)['LOC'].sum()\n",
    "top5 = total_loc_pkg.sort_values(by='LOC', ascending=False).head(5)\n",
    "print(top5)"
   ],
   "id": "1cd50a43cd2f9072",
   "outputs": [],
   "execution_count": null
  },
  {
   "metadata": {},
   "cell_type": "code",
   "source": [
    "impl_smell_count = df.groupby('Package', as_index=False)['Smell'].count()\n",
    "design_smell_count = df_d.groupby('Package', as_index=False)['Smell'].count()\n",
    "impl_smell_count.rename(columns={'Smell': 'Impl_smell'}, inplace=True)\n",
    "design_smell_count.rename(columns={'Smell': 'Design_smell'}, inplace=True)\n",
    "\n",
    "# Merge both DataFrames on 'package'\n",
    "merged_df = pd.merge(total_loc_pkg, impl_smell_count, on='Package', how='outer').fillna(0)\n",
    "merged_df['Impl_smell'] = merged_df['Impl_smell'].astype(int)  # Ensure smell count is integer\n",
    "loc_smells_df = pd.merge(merged_df, design_smell_count, on='Package', how='outer').fillna(0)\n",
    "loc_smells_df['Design_smell'] = loc_smells_df['Design_smell'].astype(int)\n",
    "\n",
    "# Sort by LOC in descending order\n",
    "loc_smells_df = loc_smells_df.sort_values(by='LOC', ascending=False)\n",
    "\n",
    "# Display the result\n",
    "print(\"Package LOC and detected smells:\")\n",
    "print(loc_smells_df)"
   ],
   "id": "75f97ac865c2c0b5",
   "outputs": [],
   "execution_count": null
  },
  {
   "metadata": {},
   "cell_type": "code",
   "source": [
    "import numpy as np\n",
    "np.where(loc_smells_df['LOC'] > 0, ((loc_smells_df['Impl_smell'] / loc_smells_df['LOC']) * 1000).round(2), 0)\n",
    "loc_smells_df['Impl_smell_density'] = np.where(loc_smells_df['LOC'] > 0, ((loc_smells_df['Impl_smell'] / loc_smells_df['LOC']) * 1000).round(2), 0)\n",
    "loc_smells_df['Design_smell_density'] = np.where(loc_smells_df['LOC'] > 0, ((loc_smells_df['Design_smell'] / loc_smells_df['LOC']) * 1000).round(2), 0)\n",
    "loc_smells_df"
   ],
   "id": "577bd1d2c065b330",
   "outputs": [],
   "execution_count": null
  },
  {
   "metadata": {},
   "cell_type": "code",
   "source": [
    "top5 = loc_smells_df.sort_values(by='Design_smell_density', ascending=False).head(5)\n",
    "print(top5)"
   ],
   "id": "c5f03d15a42b7eab",
   "outputs": [],
   "execution_count": null
  },
  {
   "metadata": {},
   "cell_type": "code",
   "source": [
    "top5 = loc_smells_df[loc_smells_df['LOC']>5000].sort_values(by='Design_smell_density', ascending=False).head(5)\n",
    "print(top5)"
   ],
   "id": "c74cf7e17df37e4",
   "outputs": [],
   "execution_count": null
  },
  {
   "metadata": {},
   "cell_type": "code",
   "source": [
    "import plotly.express as px\n",
    "\n",
    "fig = px.treemap(loc_smells_df,\n",
    "                 path=['Package'],  # Labels\n",
    "                 values='LOC',  # Determines the size\n",
    "                 color='Design_smell_density',  # Determines the color\n",
    "                 color_continuous_scale=['green','orange', 'red', 'red', 'red', 'red', 'red', 'red', 'red','red', 'red','brown','black'],  # Adjust color theme\n",
    "                 title=\"Design smells in packages\")\n",
    "\n",
    "fig.show()\n"
   ],
   "id": "a6d583c2e18afd0c",
   "outputs": [],
   "execution_count": null
  },
  {
   "metadata": {},
   "cell_type": "code",
   "source": [
    "from pydriller import Repository\n",
    "import re\n",
    "from collections import Counter\n",
    "\n",
    "# Path to the Git repository (change as needed)\n",
    "repo_path = \"django\"\n",
    "\n",
    "# Regular expression to capture imported packages\n",
    "import_regex = re.compile(r'^\\s*(?:import|from)\\s+([\\w\\d_\\.?]+)')\n",
    "\n",
    "# Dictionary to store package modification counts\n",
    "package_counter = Counter()\n",
    "\n",
    "count = 0\n",
    "for commit in Repository(repo_path, order=\"reverse\").traverse_commits():\n",
    "    count += 1\n",
    "    if commit.committer_date:\n",
    "        modified_files = [file for file in commit.modified_files if file.filename.endswith('.py')]\n",
    "\n",
    "        for file in modified_files:\n",
    "            if file.source_code:\n",
    "                # Extract imported packages\n",
    "                imports = import_regex.findall(file.source_code)\n",
    "                package_counter.update(imports)\n",
    "\n",
    "    # Stop after 10 commits\n",
    "    if count >= 20:\n",
    "        break\n",
    "\n",
    "# Print the most modified Python packages\n",
    "print(\"Most modified Python packages in the last 10 commits:\")\n",
    "for package, count in package_counter.most_common(10):\n",
    "    print(f\"{package}: {count} times\")\n"
   ],
   "id": "66fbcd4d00f7dab4",
   "outputs": [],
   "execution_count": null
  },
  {
   "metadata": {},
   "cell_type": "code",
   "source": [
    "print(\"consider refactoring of these packages:\")\n",
    "for package, count in package_counter.most_common(10):\n",
    "    matching_df = loc_smells_df[loc_smells_df['Package'].str.contains(package)]\n",
    "    if not matching_df.empty:\n",
    "        package = matching_df['Package'].iloc[0]\n",
    "        design_smell_density = matching_df['Design_smell_density'].iloc[0]\n",
    "        if design_smell_density > 10:\n",
    "            print(f\"{package}: {design_smell_density}\")"
   ],
   "id": "d51c680b3b382efa",
   "outputs": [],
   "execution_count": null
  }
 ],
 "metadata": {
  "kernelspec": {
   "display_name": "Python 3",
   "language": "python",
   "name": "python3"
  },
  "language_info": {
   "codemirror_mode": {
    "name": "ipython",
    "version": 2
   },
   "file_extension": ".py",
   "mimetype": "text/x-python",
   "name": "python",
   "nbconvert_exporter": "python",
   "pygments_lexer": "ipython2",
   "version": "2.7.6"
  }
 },
 "nbformat": 4,
 "nbformat_minor": 5
}
